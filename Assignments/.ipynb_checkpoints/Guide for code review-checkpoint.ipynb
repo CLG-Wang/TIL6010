{
 "cells": [
  {
   "cell_type": "markdown",
   "id": "d1caf37d",
   "metadata": {},
   "source": [
    "# Guide\n",
    "\n",
    "- "
   ]
  },
  {
   "cell_type": "markdown",
   "id": "ac9fb423",
   "metadata": {
    "heading_collapsed": true
   },
   "source": [
    "# [Code review rubrics](https://deepsource.io/blog/python-code-review-checklist/)\n",
    "\n",
    "- Etiquettes\n",
    "git commit styles\n",
    "\n",
    "- Functionality and syntax\n",
    "\n",
    "- Design\n",
    "\n",
    "- Patterns and idioms\n",
    "\n",
    "- Readability\n",
    "\n",
    "- Documentation and maintainability\n",
    "\n",
    "- Security\n",
    "\n",
    "- Performance, reliability and scalability\n"
   ]
  },
  {
   "cell_type": "markdown",
   "id": "5bf86bb6",
   "metadata": {
    "hidden": true
   },
   "source": [
    "\n",
    "\n",
    "Checklist | Sufficient | Insufficient | Not applicable | Comments\n",
    "--- | --- | --- | --- | ---\n",
    "**Etiquettes** | | | |\n",
    "**Functionality and syntax** | | | |\n",
    "**Design** | | | |\n",
    "**Patterns and idioms** | | | |\n",
    "**Readability** | | | |\n",
    "**Documentation and maintainability** | | | |\n",
    "**Security** | | | |\n",
    "**Performance, reliability and scalability** | | | |"
   ]
  },
  {
   "cell_type": "markdown",
   "id": "e9d95cbe",
   "metadata": {
    "heading_collapsed": true
   },
   "source": [
    "# Readability rubrics - [PEP-8 standard](https://pep8.org)\n",
    "\n",
    "- Code layout\n",
    "\n",
    "- String quotes\n",
    "\n",
    "- Whitespace in expressions and statements\n",
    "\n",
    "- When to use trailing commas\n",
    "\n",
    "- Comments\n",
    "\n",
    "- Naming conventions\n",
    "\n",
    "- Programming recommendations\n"
   ]
  },
  {
   "cell_type": "markdown",
   "id": "c2e92858",
   "metadata": {
    "hidden": true
   },
   "source": [
    "Checklist | Sufficient | Insufficient | Not applicable | Comments\n",
    "--- | --- | --- | --- | ---\n",
    "**Code layout** | | | |\n",
    "**String quotes** | | | |\n",
    "**Whitespaces** | | | |\n",
    "**Trailing commas** | | | |\n",
    "**Comments** | | | |\n",
    "**Naming conventions** | | | |\n",
    "**Programming recommendations** | | | |"
   ]
  }
 ],
 "metadata": {
  "kernelspec": {
   "display_name": "Python 3 (ipykernel)",
   "language": "python",
   "name": "python3"
  },
  "language_info": {
   "codemirror_mode": {
    "name": "ipython",
    "version": 3
   },
   "file_extension": ".py",
   "mimetype": "text/x-python",
   "name": "python",
   "nbconvert_exporter": "python",
   "pygments_lexer": "ipython3",
   "version": "3.7.11"
  }
 },
 "nbformat": 4,
 "nbformat_minor": 5
}
